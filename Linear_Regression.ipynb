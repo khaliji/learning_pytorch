{
  "cells": [
    {
      "cell_type": "code",
      "source": [
        "import torch\n",
        "import torch.nn as nn\n",
        "import matplotlib.pyplot as plt\n",
        "import numpy as np"
      ],
      "metadata": {
        "id": "nJJaIcG8SaB0"
      },
      "execution_count": null,
      "outputs": []
    },
    {
      "cell_type": "code",
      "source": [
        "np.random.seed(42)\n",
        "x = np.random.rand(100, 1)\n",
        "y = 1 + 2 * x + .1 * np.random.randn(100, 1)\n",
        "\n",
        "# Shuffles the indices\n",
        "idx = np.arange(100)\n",
        "np.random.shuffle(idx)"
      ],
      "metadata": {
        "id": "alsTgW1YTGMU"
      },
      "execution_count": null,
      "outputs": []
    },
    {
      "cell_type": "code",
      "source": [
        "# Uses first 80 random indices for train\n",
        "train_idx = idx[:80]\n",
        "# Uses the remaining indices for validation\n",
        "val_idx = idx[80:]\n",
        "\n",
        "# Generates train and validation sets\n",
        "numpy_x_train, numpy_y_train = x[train_idx], y[train_idx]\n",
        "numpy_x_val, numpy_y_val = x[val_idx], y[val_idx]"
      ],
      "metadata": {
        "id": "OmE2dtGNS8HQ"
      },
      "execution_count": null,
      "outputs": []
    },
    {
      "cell_type": "code",
      "source": [
        "# Converts numpy arrays to tensor\n",
        "x_train = torch.from_numpy(numpy_x_train).float()\n",
        "y_train = torch.from_numpy(numpy_y_train).float()\n",
        "\n",
        "# Sets learning rate\n",
        "lr = 1e-1\n",
        "\n",
        "# Defines model with nn.Sequential\n",
        "class LinRegModel(torch.nn.Module):\n",
        "    def __init__(self):\n",
        "        super().__init__()\n",
        "        # Inputs to 1st hidden layer linear transformation \n",
        "        self.neuron = torch.nn.Linear(1, 1)\n",
        "        \n",
        "    def forward(self, x):\n",
        "        y = self.neuron(x)\n",
        "        return y\n",
        "lreg_model2 = LinRegModel()        \n",
        "lreg_model2.train()\n",
        "\n",
        "# Defines optimizer\n",
        "optimizer = torch.optim.SGD(lreg_model2.parameters(), lr=lr)\n",
        "\n",
        "# Defines MSE loss\n",
        "loss_fn = torch.nn.MSELoss()\n",
        "\n",
        "# Defines number of epochs\n",
        "n_epochs = 1000\n",
        "\n",
        "for epoch in range(n_epochs):\n",
        "    # Computes our model's predicted output\n",
        "    yhat = lreg_model2(x_train)\n",
        "    \n",
        "    # How wrong is our model? That's the error! \n",
        "    # error = (y_train - yhat)\n",
        "    # It is a regression, so it computes mean squared error (MSE)\n",
        "    loss = loss_fn(yhat, y_train)\n",
        "\n",
        "    # Computes gradients for both \"a\" and \"b\" parameters\n",
        "    loss.backward()  # simple!\n",
        "\n",
        "    # Updates parameters using gradients and the learning rate\n",
        "    optimizer.step()  # simple!\n",
        "\n",
        "    # Resets gradients!\n",
        "    optimizer.zero_grad()\n",
        "print(lreg_model2.state_dict())"
      ],
      "metadata": {
        "colab": {
          "base_uri": "https://localhost:8080/"
        },
        "id": "dnypd8v_SaR-",
        "outputId": "74732292-9c08-455e-b387-4c17fac7343b"
      },
      "execution_count": null,
      "outputs": [
        {
          "output_type": "stream",
          "name": "stdout",
          "text": [
            "OrderedDict([('neuron.weight', tensor([[1.9690]])), ('neuron.bias', tensor([1.0235]))])\n"
          ]
        }
      ]
    },
    {
      "cell_type": "code",
      "source": [
        "plt.plot(numpy_x_val, numpy_y_val, 'ro')\n",
        "plt.title('Validation data and reult of the trained regression model')\n",
        "plt.grid()\n",
        "plt.xlabel('x_val')\n",
        "plt.ylabel('y_val')\n",
        "\n",
        "# Final regression model\n",
        "yhat = lreg_model2((torch.from_numpy(numpy_x_val).float()))\n",
        "plt.plot(numpy_x_val, yhat.detach().numpy(), 'g')"
      ],
      "metadata": {
        "colab": {
          "base_uri": "https://localhost:8080/",
          "height": 313
        },
        "id": "5BST0aX5UHCt",
        "outputId": "1d28263b-92f8-48d6-8e86-e202190c18c9"
      },
      "execution_count": null,
      "outputs": [
        {
          "output_type": "execute_result",
          "data": {
            "text/plain": [
              "[<matplotlib.lines.Line2D at 0x7fabc7d1e150>]"
            ]
          },
          "metadata": {},
          "execution_count": 27
        },
        {
          "output_type": "display_data",
          "data": {
            "image/png": "[encoded data removed]",
            "text/plain": [
              "<Figure size 432x288 with 1 Axes>"
            ]
          },
          "metadata": {
            "needs_background": "light"
          }
        }
      ]
    }
  ],
  "metadata": {
    "colab": {
      "collapsed_sections": [],
      "name": "Linear_Regression",
      "toc_visible": true,
      "provenance": []
    },
    "kernelspec": {
      "display_name": "Python 3",
      "name": "python3"
    }
  },
  "nbformat": 4,
  "nbformat_minor": 0
}